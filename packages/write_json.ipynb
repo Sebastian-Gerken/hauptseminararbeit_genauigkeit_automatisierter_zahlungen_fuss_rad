{
 "cells": [
  {
   "cell_type": "code",
   "execution_count": 8,
   "metadata": {},
   "outputs": [],
   "source": [
    "import pandas"
   ]
  },
  {
   "cell_type": "code",
   "execution_count": 9,
   "metadata": {},
   "outputs": [],
   "source": [
    "eq_tb = {\n",
    "    \"person\": \"person\",\n",
    "    \"Person\": \"person\",\n",
    "    #Fahrrad\n",
    "    \"bicycle\": \"bicycle\",\n",
    "    \"Fahrrad ohne Anhänger\": \"bicycle\",\n",
    "    \"Fahrrad mit Anhänger\": \"bicycle\",\n",
    "    \"Lastenrad\": \"bicycle\",\n",
    "    #PKW\n",
    "    \"car\": \"car\",\n",
    "    \"Pkw ohne Anhänger\": \"car\",\n",
    "    \"Pkw mit Anhänger\": \"car\",\n",
    "    \"Lieferwagen ohne Anhänger\": \"car\",\n",
    "    \"Lieferwagen mit Anhänger\": \"car\",\n",
    "    #LKW\n",
    "    \"truck\": \"truck\",\n",
    "    \"Lkw ohne Anhänger\": \"truck\",\n",
    "    \"Lkw mit Anhänger\": \"truck\",\n",
    "\n",
    "    \"motorcycle\": \"motorcycle\",\n",
    "    \"Motorisierte Zweiräder\": \"motorcycle\",\n",
    "\n",
    "    \"bus\": \"bus\",\n",
    "    \"Bus\": \"bus\",\n",
    "}"
   ]
  },
  {
   "cell_type": "code",
   "execution_count": 10,
   "metadata": {},
   "outputs": [
    {
     "name": "stdout",
     "output_type": "stream",
     "text": [
      "Object `eq_tb.to_json` not found.\n"
     ]
    }
   ],
   "source": [
    "eq_tb."
   ]
  }
 ],
 "metadata": {
  "kernelspec": {
   "display_name": "Python 3",
   "language": "python",
   "name": "python3"
  },
  "language_info": {
   "codemirror_mode": {
    "name": "ipython",
    "version": 3
   },
   "file_extension": ".py",
   "mimetype": "text/x-python",
   "name": "python",
   "nbconvert_exporter": "python",
   "pygments_lexer": "ipython3",
   "version": "3.10.6"
  },
  "orig_nbformat": 4
 },
 "nbformat": 4,
 "nbformat_minor": 2
}
