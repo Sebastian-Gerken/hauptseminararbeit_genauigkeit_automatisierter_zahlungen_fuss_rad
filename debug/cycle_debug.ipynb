{
 "cells": [
  {
   "cell_type": "code",
   "execution_count": null,
   "metadata": {},
   "outputs": [],
   "source": []
  },
  {
   "attachments": {},
   "cell_type": "markdown",
   "metadata": {},
   "source": [
    "## This code is intended for debugging only and is only saved for testing purpose\n",
    "#### First test ideal working example"
   ]
  },
  {
   "cell_type": "code",
   "execution_count": null,
   "metadata": {},
   "outputs": [
    {
     "data": {
      "text/html": [
       "<div>\n",
       "<style scoped>\n",
       "    .dataframe tbody tr th:only-of-type {\n",
       "        vertical-align: middle;\n",
       "    }\n",
       "\n",
       "    .dataframe tbody tr th {\n",
       "        vertical-align: top;\n",
       "    }\n",
       "\n",
       "    .dataframe thead th {\n",
       "        text-align: right;\n",
       "    }\n",
       "</style>\n",
       "<table border=\"1\" class=\"dataframe\">\n",
       "  <thead>\n",
       "    <tr style=\"text-align: right;\">\n",
       "      <th></th>\n",
       "      <th>Class</th>\n",
       "      <th>gt</th>\n",
       "      <th>eval</th>\n",
       "      <th>rp</th>\n",
       "      <th>fp</th>\n",
       "      <th>fn</th>\n",
       "    </tr>\n",
       "  </thead>\n",
       "  <tbody>\n",
       "    <tr>\n",
       "      <th>0</th>\n",
       "      <td>person</td>\n",
       "      <td>0</td>\n",
       "      <td>1</td>\n",
       "      <td>0</td>\n",
       "      <td>1</td>\n",
       "      <td>0</td>\n",
       "    </tr>\n",
       "    <tr>\n",
       "      <th>1</th>\n",
       "      <td>bicycle</td>\n",
       "      <td>1</td>\n",
       "      <td>1</td>\n",
       "      <td>1</td>\n",
       "      <td>0</td>\n",
       "      <td>0</td>\n",
       "    </tr>\n",
       "  </tbody>\n",
       "</table>\n",
       "</div>"
      ],
      "text/plain": [
       "     Class  gt  eval  rp  fp  fn\n",
       "0   person   0     1   0   1   0\n",
       "1  bicycle   1     1   1   0   0"
      ]
     },
     "metadata": {},
     "output_type": "display_data"
    }
   ],
   "source": [
    "#test 1 for evaluation of the desired reaction of code\n",
    "df_merged = {'Class':  [\"person\", \"bicycle\"], \"gt\":[0, 1], \"eval\": [1, 1]}\n",
    "df_merged = pd.DataFrame(df_merged)\n",
    "df_merged[\"rp\"] = df_merged.apply(lambda row: get_right_positive(row, [\"gt\", \"eval\"]), axis=1)\n",
    "df_merged[\"fp\"] = df_merged.apply(lambda row: get_false_positive(row, \"gt\", \"eval\"), axis=1)\n",
    "df_merged[\"fn\"] = df_merged.apply(lambda row: get_false_negative(row, \"gt\", \"eval\"), axis=1)\n",
    "df_merged"
   ]
  },
  {
   "cell_type": "code",
   "execution_count": null,
   "metadata": {},
   "outputs": [],
   "source": [
    "rp_bicycles = int( df_merged.loc[df_merged[\"Class\"] == \"bicycle\", \"rp\"] ) #get value of rp bicycles\n",
    "eval_person = int( df_merged.loc[df_merged[\"Class\"] == \"person\", \"eval\"] ) #get value of person\n",
    "eval_person_adjusted = eval = eval_person - rp_bicycles\n",
    "df_merged.loc[df_merged[\"Class\"] == \"person\", \"eval\"] = eval_person_adjusted\n",
    "df_merged[\"rp\"] = df_merged.apply(lambda row: get_right_positive(row, [\"gt\", \"eval\"]), axis=1)\n",
    "df_merged[\"fp\"] = df_merged.apply(lambda row: get_false_positive(row, \"gt\", \"eval\"), axis=1)\n",
    "df_merged[\"fn\"] = df_merged.apply(lambda row: get_false_negative(row, \"gt\", \"eval\"), axis=1)"
   ]
  },
  {
   "cell_type": "code",
   "execution_count": null,
   "metadata": {},
   "outputs": [
    {
     "data": {
      "text/html": [
       "<div>\n",
       "<style scoped>\n",
       "    .dataframe tbody tr th:only-of-type {\n",
       "        vertical-align: middle;\n",
       "    }\n",
       "\n",
       "    .dataframe tbody tr th {\n",
       "        vertical-align: top;\n",
       "    }\n",
       "\n",
       "    .dataframe thead th {\n",
       "        text-align: right;\n",
       "    }\n",
       "</style>\n",
       "<table border=\"1\" class=\"dataframe\">\n",
       "  <thead>\n",
       "    <tr style=\"text-align: right;\">\n",
       "      <th></th>\n",
       "      <th>Class</th>\n",
       "      <th>gt</th>\n",
       "      <th>eval</th>\n",
       "      <th>rp</th>\n",
       "      <th>fp</th>\n",
       "      <th>fn</th>\n",
       "    </tr>\n",
       "  </thead>\n",
       "  <tbody>\n",
       "    <tr>\n",
       "      <th>0</th>\n",
       "      <td>person</td>\n",
       "      <td>0</td>\n",
       "      <td>0</td>\n",
       "      <td>0</td>\n",
       "      <td>0</td>\n",
       "      <td>0</td>\n",
       "    </tr>\n",
       "    <tr>\n",
       "      <th>1</th>\n",
       "      <td>bicycle</td>\n",
       "      <td>1</td>\n",
       "      <td>1</td>\n",
       "      <td>1</td>\n",
       "      <td>0</td>\n",
       "      <td>0</td>\n",
       "    </tr>\n",
       "  </tbody>\n",
       "</table>\n",
       "</div>"
      ],
      "text/plain": [
       "     Class  gt  eval  rp  fp  fn\n",
       "0   person   0     0   0   0   0\n",
       "1  bicycle   1     1   1   0   0"
      ]
     },
     "metadata": {},
     "output_type": "display_data"
    }
   ],
   "source": [
    "df_merged"
   ]
  },
  {
   "attachments": {},
   "cell_type": "markdown",
   "metadata": {},
   "source": [
    "Test 2"
   ]
  },
  {
   "cell_type": "code",
   "execution_count": null,
   "metadata": {},
   "outputs": [
    {
     "data": {
      "text/html": [
       "<div>\n",
       "<style scoped>\n",
       "    .dataframe tbody tr th:only-of-type {\n",
       "        vertical-align: middle;\n",
       "    }\n",
       "\n",
       "    .dataframe tbody tr th {\n",
       "        vertical-align: top;\n",
       "    }\n",
       "\n",
       "    .dataframe thead th {\n",
       "        text-align: right;\n",
       "    }\n",
       "</style>\n",
       "<table border=\"1\" class=\"dataframe\">\n",
       "  <thead>\n",
       "    <tr style=\"text-align: right;\">\n",
       "      <th></th>\n",
       "      <th>Class</th>\n",
       "      <th>gt</th>\n",
       "      <th>eval</th>\n",
       "      <th>rp</th>\n",
       "      <th>fp</th>\n",
       "      <th>fn</th>\n",
       "    </tr>\n",
       "  </thead>\n",
       "  <tbody>\n",
       "    <tr>\n",
       "      <th>0</th>\n",
       "      <td>person</td>\n",
       "      <td>0</td>\n",
       "      <td>0</td>\n",
       "      <td>0</td>\n",
       "      <td>0</td>\n",
       "      <td>0</td>\n",
       "    </tr>\n",
       "    <tr>\n",
       "      <th>1</th>\n",
       "      <td>bicycle</td>\n",
       "      <td>1</td>\n",
       "      <td>1</td>\n",
       "      <td>1</td>\n",
       "      <td>0</td>\n",
       "      <td>0</td>\n",
       "    </tr>\n",
       "  </tbody>\n",
       "</table>\n",
       "</div>"
      ],
      "text/plain": [
       "     Class  gt  eval  rp  fp  fn\n",
       "0   person   0     0   0   0   0\n",
       "1  bicycle   1     1   1   0   0"
      ]
     },
     "metadata": {},
     "output_type": "display_data"
    }
   ],
   "source": [
    "#test 1 for evaluation of the desired reaction of code\n",
    "df_merged = {'Class':  [\"person\", \"bicycle\"], \"gt\":[0, 1], \"eval\": [0, 1]}\n",
    "df_merged = pd.DataFrame(df_merged)\n",
    "df_merged[\"rp\"] = df_merged.apply(lambda row: get_right_positive(row, [\"gt\", \"eval\"]), axis=1)\n",
    "df_merged[\"fp\"] = df_merged.apply(lambda row: get_false_positive(row, \"gt\", \"eval\"), axis=1)\n",
    "df_merged[\"fn\"] = df_merged.apply(lambda row: get_false_negative(row, \"gt\", \"eval\"), axis=1)\n",
    "df_merged"
   ]
  },
  {
   "cell_type": "code",
   "execution_count": null,
   "metadata": {},
   "outputs": [],
   "source": [
    "rp_bicycles = int( df_merged.loc[df_merged[\"Class\"] == \"bicycle\", \"rp\"] ) #get value of rp bicycles\n",
    "eval_person = int( df_merged.loc[df_merged[\"Class\"] == \"person\", \"eval\"] ) #get value of person\n",
    "eval_person_adjusted = eval = eval_person - rp_bicycles\n",
    "df_merged.loc[df_merged[\"Class\"] == \"person\", \"eval\"] = eval_person_adjusted\n",
    "df_merged[\"rp\"] = df_merged.apply(lambda row: get_right_positive(row, [\"gt\", \"eval\"]), axis=1)\n",
    "df_merged[\"fp\"] = df_merged.apply(lambda row: get_false_positive(row, \"gt\", \"eval\"), axis=1)\n",
    "df_merged[\"fn\"] = df_merged.apply(lambda row: get_false_negative(row, \"gt\", \"eval\"), axis=1)\n",
    "#eval value can become negativ in extreme cases! That functionality is intendet!\n",
    "#Note that right-possitive Values can't get  negative by definition! "
   ]
  },
  {
   "cell_type": "code",
   "execution_count": null,
   "metadata": {},
   "outputs": [
    {
     "data": {
      "text/html": [
       "<div>\n",
       "<style scoped>\n",
       "    .dataframe tbody tr th:only-of-type {\n",
       "        vertical-align: middle;\n",
       "    }\n",
       "\n",
       "    .dataframe tbody tr th {\n",
       "        vertical-align: top;\n",
       "    }\n",
       "\n",
       "    .dataframe thead th {\n",
       "        text-align: right;\n",
       "    }\n",
       "</style>\n",
       "<table border=\"1\" class=\"dataframe\">\n",
       "  <thead>\n",
       "    <tr style=\"text-align: right;\">\n",
       "      <th></th>\n",
       "      <th>Class</th>\n",
       "      <th>gt</th>\n",
       "      <th>eval</th>\n",
       "      <th>rp</th>\n",
       "      <th>fp</th>\n",
       "      <th>fn</th>\n",
       "    </tr>\n",
       "  </thead>\n",
       "  <tbody>\n",
       "    <tr>\n",
       "      <th>0</th>\n",
       "      <td>person</td>\n",
       "      <td>0</td>\n",
       "      <td>-1</td>\n",
       "      <td>0</td>\n",
       "      <td>0</td>\n",
       "      <td>1</td>\n",
       "    </tr>\n",
       "    <tr>\n",
       "      <th>1</th>\n",
       "      <td>bicycle</td>\n",
       "      <td>1</td>\n",
       "      <td>1</td>\n",
       "      <td>1</td>\n",
       "      <td>0</td>\n",
       "      <td>0</td>\n",
       "    </tr>\n",
       "  </tbody>\n",
       "</table>\n",
       "</div>"
      ],
      "text/plain": [
       "     Class  gt  eval  rp  fp  fn\n",
       "0   person   0    -1   0   0   1\n",
       "1  bicycle   1     1   1   0   0"
      ]
     },
     "metadata": {},
     "output_type": "display_data"
    }
   ],
   "source": [
    "df_merged"
   ]
  },
  {
   "attachments": {},
   "cell_type": "markdown",
   "metadata": {},
   "source": [
    "Test 3"
   ]
  },
  {
   "cell_type": "code",
   "execution_count": null,
   "metadata": {},
   "outputs": [],
   "source": [
    "g"
   ]
  }
 ],
 "metadata": {
  "language_info": {
   "name": "python"
  },
  "orig_nbformat": 4
 },
 "nbformat": 4,
 "nbformat_minor": 2
}
