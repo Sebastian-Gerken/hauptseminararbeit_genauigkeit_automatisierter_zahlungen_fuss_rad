{
 "cells": [
  {
   "cell_type": "code",
   "execution_count": 2,
   "metadata": {},
   "outputs": [],
   "source": [
    "import pandas as pd"
   ]
  },
  {
   "cell_type": "code",
   "execution_count": 10,
   "metadata": {},
   "outputs": [],
   "source": [
    "#equivalenz Tabelle\n",
    "eq_tb = {\n",
    "    \"person\": \"person\",\n",
    "    \"Person\": \"person\",\n",
    "    #Fahrrad\n",
    "    \"bicycle\": \"bicycle\",\n",
    "    \"Bicycle\": \"bicycle\",\n",
    "    \"Fahrrad ohne Anhänger\": \"bicycle\",\n",
    "    \"Fahrrad mit Anhänger\": \"bicycle\",\n",
    "    \"Lastenrad\": \"bicycle\",\n",
    "    #PKW\n",
    "    \"car\": \"car\",\n",
    "    \"Pkw ohne Anhänger\": \"car\",\n",
    "    \"Pkw mit Anhänger\": \"car\",\n",
    "    \"Lieferwagen ohne Anhänger\": \"car\",\n",
    "    \"Lieferwagen mit Anhänger\": \"car\",\n",
    "    #LKW\n",
    "    \"truck\": \"truck\",\n",
    "    \"Lkw ohne Anhänger\": \"truck\",\n",
    "    \"Lkw mit Anhänger\": \"truck\",\n",
    "\n",
    "    \"motorcycle\": \"motorcycle\",\n",
    "    \"Motorisierte Zweiräder\": \"motorcycle\",\n",
    "\n",
    "    \"bus\": \"bus\",\n",
    "    \"Bus\": \"bus\",\n",
    "\n",
    "}"
   ]
  },
  {
   "cell_type": "code",
   "execution_count": 69,
   "metadata": {},
   "outputs": [],
   "source": [
    "df_04_1 = pd.read_csv(\"./data/gt_data/Saarbruecken_OTCamera04_FR20_2022-10-17_13-15-00_v5.csv\")\n",
    "df_04_2 = pd.read_csv(\"./data/gt_data/Saarbruecken_OTCamera04_FR20_2022-10-17_18-30-00_v2.csv\")\n",
    "df_04_3 = pd.read_csv(\"./data/gt_data/Saarbruecken_OTCamera04_FR20_2022-10-17_18-45-00_v2.csv\")\n",
    "df_01_1 = pd.read_csv(\"./data/gt_data/TUDCam01_FR20_2022-09-20_08-00-00.csv\")\n",
    "df_01_2 = pd.read_csv(\"./data/gt_data/TUDCam01_FR20_2022-09-20_08-15-00.csv\")\n",
    "df_01_3 = pd.read_csv(\"./data/gt_data/TUDCam01_FR20_2022-09-20_08-30-00.csv\")"
   ]
  },
  {
   "cell_type": "code",
   "execution_count": 70,
   "metadata": {},
   "outputs": [],
   "source": [
    "df_04_1[\"Class\"] = df_04_1[\"Class\"].map(eq_tb)\n",
    "df_04_2[\"Class\"] = df_04_2[\"Class\"].map(eq_tb)\n",
    "df_04_3[\"Class\"] = df_04_3[\"Class\"].map(eq_tb)\n",
    "df_01_1[\"Class\"] = df_01_1[\"Class\"].map(eq_tb)\n",
    "df_01_2[\"Class\"] = df_01_2[\"Class\"].map(eq_tb)\n",
    "df_01_3[\"Class\"] = df_01_3[\"Class\"].map(eq_tb)"
   ]
  },
  {
   "cell_type": "code",
   "execution_count": 71,
   "metadata": {},
   "outputs": [],
   "source": [
    "df_04_1 = df_04_1[\"Class\"].value_counts()\n",
    "df_04_2 = df_04_2[\"Class\"].value_counts()\n",
    "df_04_3 = df_04_3[\"Class\"].value_counts()\n",
    "df_01_1 = df_01_1[\"Class\"].value_counts()\n",
    "df_01_2 = df_01_2[\"Class\"].value_counts()\n",
    "df_01_3 = df_01_3[\"Class\"].value_counts()"
   ]
  },
  {
   "cell_type": "code",
   "execution_count": null,
   "metadata": {},
   "outputs": [],
   "source": [
    "df_04_1 = df_04_1[\"Class\"].fillna(0)\n",
    "df_04_2 = df_04_2[\"Class\"].fillna(0)\n",
    "df_04_3 = df_04_3[\"Class\"].fillna(0)\n",
    "df_01_1 = df_01_1[\"Class\"].fillna(0)\n",
    "df_01_2 = df_01_2[\"Class\"].fillna(0)\n",
    "df_01_3 = df_01_3[\"Class\"].fillna(0)"
   ]
  },
  {
   "cell_type": "code",
   "execution_count": 79,
   "metadata": {},
   "outputs": [
    {
     "data": {
      "text/plain": [
       "bicycle    143\n",
       "person      47\n",
       "car          2\n",
       "Name: Class, dtype: int64"
      ]
     },
     "execution_count": 79,
     "metadata": {},
     "output_type": "execute_result"
    }
   ],
   "source": [
    "df_01_3"
   ]
  },
  {
   "cell_type": "code",
   "execution_count": null,
   "metadata": {},
   "outputs": [],
   "source": []
  }
 ],
 "metadata": {
  "kernelspec": {
   "display_name": "Python 3",
   "language": "python",
   "name": "python3"
  },
  "language_info": {
   "codemirror_mode": {
    "name": "ipython",
    "version": 3
   },
   "file_extension": ".py",
   "mimetype": "text/x-python",
   "name": "python",
   "nbconvert_exporter": "python",
   "pygments_lexer": "ipython3",
   "version": "3.10.6"
  },
  "orig_nbformat": 4
 },
 "nbformat": 4,
 "nbformat_minor": 2
}
