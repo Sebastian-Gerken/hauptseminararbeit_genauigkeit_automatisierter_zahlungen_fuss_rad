{
 "cells": [
  {
   "cell_type": "code",
   "execution_count": 10,
   "metadata": {},
   "outputs": [],
   "source": [
    "%matplotlib inline\n",
    "%config InlineBackkend.figure_formats = [\"png\"]\n",
    "import os\n",
    "import sys\n",
    "import re\n",
    "import datetime\n",
    "import numpy as np\n",
    "import pandas as pd\n",
    "import seaborn as sns\n",
    "import matplotlib.pyplot as plt\n",
    "from pathlib import Path\n",
    "cwd = Path(os.getcwd())\n",
    "package_dir = cwd / 'packages'\n",
    "sys.path.insert(0, str(package_dir))\n",
    "from IPython.display import display"
   ]
  },
  {
   "attachments": {},
   "cell_type": "markdown",
   "metadata": {},
   "source": [
    "Funktionen:"
   ]
  },
  {
   "cell_type": "code",
   "execution_count": 11,
   "metadata": {},
   "outputs": [],
   "source": [
    "#equivalenz Tabelle\n",
    "eq_tb = {\n",
    "    \"person\": \"person\",\n",
    "    \"Person\": \"person\",\n",
    "    #Fahrrad\n",
    "    \"bicycle\": \"bicycle\",\n",
    "    \"Fahrrad ohne Anhänger\": \"bicycle\",\n",
    "    \"Fahrrad mit Anhänger\": \"bicycle\",\n",
    "    \"Lastenrad\": \"bicycle\",\n",
    "    #PKW\n",
    "    \"car\": \"car\",\n",
    "    \"Pkw ohne Anhänger\": \"car\",\n",
    "    \"Pkw mit Anhänger\": \"car\",\n",
    "    \"Lieferwagen ohne Anhänger\": \"car\",\n",
    "    \"Lieferwagen mit Anhänger\": \"car\",\n",
    "    #LKW\n",
    "    \"truck\": \"truck\",\n",
    "    \"Lkw ohne Anhänger\": \"truck\",\n",
    "    \"Lkw mit Anhänger\": \"truck\",\n",
    "\n",
    "    \"motorcycle\": \"motorcycle\",\n",
    "    \"Motorisierte Zweiräder\": \"motorcycle\",\n",
    "\n",
    "    \"bus\": \"bus\",\n",
    "    \"Bus\": \"bus\",\n",
    "\n",
    "}"
   ]
  },
  {
   "cell_type": "code",
   "execution_count": 12,
   "metadata": {},
   "outputs": [],
   "source": [
    "import pandas as pd\n",
    "\n",
    "def sort_time(df, col=\"DateTime\"):\n",
    "    \"\"\"Sorts rows in dataframe by datetime\"\"\"\n",
    "    df[col] = pd.to_datetime(df[col])\n",
    "    filtered = df.sort_values(by=col)\n",
    "    return filtered\n",
    "\n",
    "def filter_df_by_range(df, t_min, t_max, col=\"DateTime\"):\n",
    "    \"\"\"Filters dataframe by datetime range\"\"\"\n",
    "    filtered = df[(df[col] >= t_min) & (df[col] < t_max)]\n",
    "    return filtered\n",
    "\n",
    "def array_similar(array1, array2):\n",
    "    \"\"\"Checks if 2 arrays contain the same strings\"\"\"\n",
    "    if not len(array1) == len(array2):\n",
    "        raise ValueError(\"Arrays don't have the same length!\")\n",
    "    for word in array1:\n",
    "        if word in array2:\n",
    "            continue\n",
    "        else:\n",
    "            raise ValueError(\"Arrays don't contain the same strings\")\n",
    "    return True\n",
    "\n",
    "def get_gates(df1, df2, col=\"SectionID\"):\n",
    "    \"\"\"Checks if two dataframes have identical values in column\"\"\"\n",
    "    df1 = df1[col].unique()\n",
    "    df2 = df2[col].unique()\n",
    "    if array_similar(df1, df2):\n",
    "        return df1\n",
    "    else:\n",
    "        raise ValueError(\"Dataframes have different values in the column\")\n",
    "\n",
    "def get_value_counts(df, sections, section_index, value=\"Class\", section_name=\"SectionID\"):\n",
    "    \"\"\"Returns value counts from dataframe for a specific section\"\"\"\n",
    "    return df.loc[df[section_name] == sections[section_index], value].value_counts()\n",
    "\n",
    "def extract_time(file_path):\n",
    "    \"\"\"\n",
    "    Extracts the time from file name in the format \"...yyyy-mm-dd_HH-MM-SS.csv\".\n",
    "\n",
    "    Args:\n",
    "    file_path (str): The file path to extract the time from\n",
    "    \n",
    "    Returns:\n",
    "    datetime.datetime object: The time extracted from the file name\n",
    "    \"\"\"\n",
    "    pattern = r\"(\\d{4}-\\d{2}-\\d{2}_\\d{2}-\\d{2}-\\d{2})\"\n",
    "    match = re.search(pattern, file_path)\n",
    "    if match:\n",
    "        time_str = match.group(1)\n",
    "        return datetime.datetime.strptime(time_str, '%Y-%m-%d_%H-%M-%S')\n",
    "    else:\n",
    "        return None\n",
    "\n",
    "def get_right_positive(row, columns):\n",
    "    \"\"\"\n",
    "    Returns the right positive classification.\n",
    "    This works by comparing the min() value of the two rows\n",
    "    Note that the value can`t go below 0!\n",
    "    \"\"\"\n",
    "    return max(row[columns].min(), 0)\n",
    "\n",
    "def get_false_positive(row, gt, eval):\n",
    "    diff = row[gt] - row[eval]\n",
    "    if diff < 0:\n",
    "        return abs(diff)\n",
    "    else:\n",
    "        return 0\n",
    "    \n",
    "def get_false_negative(row, gt, eval):\n",
    "    diff = row[gt] - row[eval]\n",
    "    if diff > 0:\n",
    "        return abs(diff)\n",
    "    else:\n",
    "        return 0\n",
    "    \n",
    "def format_timedelta(td):\n",
    "    total_seconds = int(td.total_seconds())\n",
    "    hours, remainder = divmod(total_seconds, 3600)\n",
    "    minutes, seconds = divmod(remainder, 60)\n",
    "    return f'{hours:02d}_{minutes:02d}_{seconds:02d}'\n",
    "\n",
    "def on_file_upload(change):\n",
    "    # Get the uploaded file\n",
    "    uploaded_file = change['owner'].data[0]\n",
    "    \n",
    "    # Print the file name and contents\n",
    "    print(f'Uploaded file \"{uploaded_file.name}\" with length {len(uploaded_file)}')\n",
    "    print(uploaded_file)"
   ]
  },
  {
   "attachments": {},
   "cell_type": "markdown",
   "metadata": {},
   "source": [
    "Tabellen definieren"
   ]
  },
  {
   "cell_type": "code",
   "execution_count": 14,
   "metadata": {},
   "outputs": [],
   "source": [
    "#settings\n",
    "groundtruth = \"data/gt_data/Saarbruecken_OTCamera04_FR20_2022-10-17_13-15-00.csv\"\n",
    "evaluate = \"data/gtv_data/Saarbruecken_OTCamera04_FR20_2022-10-17_13-15-00_events.csv\"\n",
    "filename = \"Saarbruecken_gt2gt_eval\" + extract_time(groundtruth).strftime(\"%Y-%m-%d_%H-%M-%S\")\n",
    "cycle_feedback = False #seting for using the cycle_feedback funcitonality for motorcycles and bicycles\n",
    "#end of settings\n",
    "df_gt = pd.read_csv(groundtruth)\n",
    "df_eval = pd.read_csv(evaluate) \n",
    "gates = get_gates(df_eval, df_gt)\n",
    "df_gt[\"Class\"] = df_gt[\"Class\"].map(eq_tb)\n",
    "df_eval[\"Class\"] = df_eval[\"Class\"].map(eq_tb)\n",
    "df_eval = sort_time(df_eval)\n",
    "df_gt = sort_time(df_gt)"
   ]
  },
  {
   "attachments": {},
   "cell_type": "markdown",
   "metadata": {},
   "source": [
    "#### Analysis section:\n",
    "The following code will loop over all counting section and do a series of binary classification tests for all modes for different interval settings."
   ]
  },
  {
   "cell_type": "code",
   "execution_count": 15,
   "metadata": {},
   "outputs": [],
   "source": [
    "#setting for the interval\n",
    "t_min = extract_time(groundtruth)\n",
    "t_max = t_min + pd.Timedelta(minutes=15)  # Endzeit des Videos\n",
    "interval = pd.timedelta_range(start=\"0 days\", end=\"15 minutes\", freq=\"10 s\")  # Intervall\n",
    "####\n",
    "for gate_index, gate in enumerate(gates):  # geht alle Gates durch\n",
    "    index = gate_index  # holt sich den index aus gate_index series\n",
    "\n",
    "    for t_int in interval:  # geht Intervalleinstellung (Kalibrierung) durch\n",
    "        if t_int == pd.Timedelta(0) or pd.Timedelta(minutes=15) % t_int != pd.Timedelta(0):\n",
    "            continue  # wenn intervall nicht mod 15 ist überspringen\n",
    "\n",
    "        t_end = t_min  # t_end\n",
    "        df_merged2 = pd.DataFrame(columns=[\"Class\", \"gt\", \"eval\", \"rp\", \"fp\", \"fn\", \"t_start\", \"t_end\"])\n",
    "        \n",
    "        while t_end <= (t_max - t_int):  # loopt alle Zeitintervalle\n",
    "            t_start = t_end  # setzt intervall grenzen\n",
    "            t_end = t_start + t_int\n",
    "\n",
    "            df1 = filter_df_by_range(df_gt, t_start, t_end)  # filtert Spalten nach Zeitgrenzen\n",
    "            df2 = filter_df_by_range(df_eval, t_start, t_end)\n",
    "\n",
    "            df1 = get_value_counts(df1, gates, index)  # Summen für Class nach gateindex\n",
    "            df2 = get_value_counts(df2, gates, index)\n",
    "\n",
    "            df1 = pd.DataFrame(df1).reset_index().rename(columns={\"index\": \"Class\", \"Class\": \"gt\"})\n",
    "            df2 = pd.DataFrame(df2).reset_index().rename(columns={\"index\": \"Class\", \"Class\": \"eval\"})\n",
    "\n",
    "            df_merged = pd.merge(df1, df2, on=\"Class\", how=\"outer\")# setzt series zusammen\n",
    "            df_merged = df_merged.fillna(0)\n",
    "\n",
    "            df_merged[\"rp\"] = df_merged.apply(lambda row: get_right_positive(row, [\"gt\", \"eval\"]), axis=1)\n",
    "            df_merged[\"fp\"] = df_merged.apply(lambda row: get_false_positive(row, \"gt\", \"eval\"), axis=1)\n",
    "            df_merged[\"fn\"] = df_merged.apply(lambda row: get_false_negative(row, \"gt\", \"eval\"), axis=1)\n",
    "\n",
    "            df_merged_test = df_merged\n",
    "            # Bicycle feedback\n",
    "            if cycle_feedback:\n",
    "                for target_class in [\"bicycle\", \"motorcycle\"]:\n",
    "                    if not df_merged.loc[df_merged[\"Class\"] == target_class].empty:  # Looks for rp target_class\n",
    "                        if int(df_merged.loc[df_merged[\"Class\"] == target_class, \"rp\"]) > 0:\n",
    "                            rp_target = int(df_merged.loc[df_merged[\"Class\"] == target_class, \"rp\"])  # Get value of rp target_class\n",
    "                            if df_merged.loc[df_merged[\"Class\"] == \"person\"].empty:\n",
    "                                df_merged.loc[len(df_merged)] = [\"person\", 0, 0, 0, 0, 0]\n",
    "                            eval_person = int(df_merged.loc[df_merged[\"Class\"] == \"person\", \"eval\"])  # Get value of person\n",
    "                            eval_person_adjusted = eval_person - rp_target\n",
    "                            df_merged.loc[df_merged[\"Class\"] == \"person\", \"eval\"] = eval_person_adjusted\n",
    "                            df_merged[\"rp\"] = df_merged.apply(lambda row: get_right_positive(row, [\"gt\", \"eval\"]), axis=1)\n",
    "                            df_merged[\"fp\"] = df_merged.apply(lambda row: get_false_positive(row, \"gt\", \"eval\"), axis=1)\n",
    "                            df_merged[\"fn\"] = df_merged.apply(lambda row: get_false_negative(row, \"gt\", \"eval\"), axis=1)\n",
    "                            # Eval value can become negative in extreme cases! That functionality is intended!\n",
    "                            # Note that right-positive values can't get negative by definition!\n",
    "\n",
    "            df_merged[\"t_start\"] = t_start.strftime(\"%H:%M:%S\")\n",
    "            df_merged[\"t_end\"] = t_end.strftime(\"%H:%M:%S\")\n",
    "\n",
    "            if t_start == t_min:\n",
    "                df_merged2 = df_merged\n",
    "            else:\n",
    "                df_merged2 = pd.concat([df_merged2, df_merged], ignore_index = True)\n",
    "                del df_merged      \n",
    "        \n",
    "        df_merged2 = df_merged2.groupby(by=\"Class\").sum(numeric_only=True)\n",
    "        path = \"./\" + filename + \"/\" + gate\n",
    "        filestring = \"/\" + gate + \"-\" + format_timedelta(t_int) + \"-\"+ t_min.strftime(\"%H_%M_%S\") + \"-\"+t_max.strftime(\"%H_%M_%S\") +\".csv\"\n",
    "        if not os.path.exists(path):\n",
    "            os.makedirs(path)\n",
    "        df_merged2.to_csv((path + filestring), sep= \";\")    "
   ]
  },
  {
   "cell_type": "code",
   "execution_count": 21,
   "metadata": {},
   "outputs": [
    {
     "data": {
      "image/png": "[encoded data removed]",
      "text/plain": [
       "<Figure size 640x480 with 1 Axes>"
      ]
     },
     "metadata": {},
     "output_type": "display_data"
    }
   ],
   "source": [
    "sns.set_style(\"ticks\")\n",
    "ax = sns.scatterplot(data = df_eval, x = \"X\", y = \"Y\", alpha = 0.5, s = 10, hue = \"Class\")\n",
    "ax.set_xlim(0, 799),\n",
    "ax.set_ylim(0, 599)\n",
    "plt.savefig(\"test.png\", dpi = 300)"
   ]
  },
  {
   "cell_type": "code",
   "execution_count": 38,
   "metadata": {},
   "outputs": [
    {
     "data": {
      "text/plain": [
       "'Haltelinie'"
      ]
     },
     "execution_count": 38,
     "metadata": {},
     "output_type": "execute_result"
    }
   ],
   "source": [
    "gates[0]"
   ]
  }
 ],
 "metadata": {
  "kernelspec": {
   "display_name": "Python 3",
   "language": "python",
   "name": "python3"
  },
  "language_info": {
   "codemirror_mode": {
    "name": "ipython",
    "version": 3
   },
   "file_extension": ".py",
   "mimetype": "text/x-python",
   "name": "python",
   "nbconvert_exporter": "python",
   "pygments_lexer": "ipython3",
   "version": "3.10.6"
  },
  "orig_nbformat": 4
 },
 "nbformat": 4,
 "nbformat_minor": 2
}
