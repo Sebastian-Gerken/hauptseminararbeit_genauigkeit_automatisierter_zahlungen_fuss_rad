{
 "cells": [
  {
   "cell_type": "code",
   "execution_count": 7,
   "metadata": {},
   "outputs": [],
   "source": [
    "import numpy as np\n",
    "import pandas as pd\n",
    "import matplotlib as plt"
   ]
  },
  {
   "attachments": {},
   "cell_type": "markdown",
   "metadata": {},
   "source": [
    "Einlesen der Dateien"
   ]
  },
  {
   "cell_type": "code",
   "execution_count": 29,
   "metadata": {},
   "outputs": [],
   "source": [
    "df_eval = pd.read_csv(\"data\\otv_data\\Saarbruecken_OTCamera04_FR20_2022-10-17_13-15-00_events.csv\") \n",
    "df_gt = pd.read_csv(\"data\\gt_data\\Saarbruecken_OTCamera04_FR20_2022-10-17_13-15-00.csv\")"
   ]
  },
  {
   "attachments": {},
   "cell_type": "markdown",
   "metadata": {},
   "source": [
    "Funktionen:"
   ]
  },
  {
   "cell_type": "code",
   "execution_count": 32,
   "metadata": {},
   "outputs": [],
   "source": [
    "#equivalenz Tabelle\n",
    "eq_tb = {\n",
    "    \"Person\": \"person\",\n",
    "    \"Pkw ohne Anhänger\": \"car\",\n",
    "    \"Pkw mit Anhänger\": \"car\",\n",
    "    \"Motorisierte Zweiräder\": \"motorcycle\",\n",
    "    \"Lieferwagen ohne Anhänger\": \"car\",\n",
    "    \"Lieferwagen mit Anhänger\": \"car\",\n",
    "    \"Lkw ohne Anhänger\": \"truck\",\n",
    "    \"Lkw mit Anhänger\": \"truck\",\n",
    "    \"Bus\": \"bus\",\n",
    "    \"Fahrrad ohne Anhänger\": \"bicycle\",\n",
    "    \"Fahrrad mit Anhänger\": \"bicycle\",\n",
    "    \"Lastenrad\": \"bicycle\"\n",
    "}"
   ]
  },
  {
   "cell_type": "code",
   "execution_count": 27,
   "metadata": {},
   "outputs": [],
   "source": [
    "#sortiert spalten nach Zeit\n",
    "def sort_time(df, col = \"DateTime\"):\n",
    "    df[col] = pd.to_datetime(df[col])\n",
    "    filtered = df.sort_values(by=col)\n",
    "    return filtered\n",
    "\n",
    "#filtert df nach min und max zeitwert\n",
    "def get_df_range(df, t_min, t_max, col = \"DateTime\" ):\n",
    "        filtered = df[(df[col] >= t_min) & (df[col] < t_max)]\n",
    "        return filtered\n",
    "\n",
    "#überprüft ob 2 array die gleichen strings enthält\n",
    "def array_similar(array1, array2):\n",
    "      if not len(array1) == len(array2):\n",
    "            raise ValueError(\"Arrays dont have the same dimesion!\")\n",
    "      for word in array1:\n",
    "            if word in array2:\n",
    "                  next\n",
    "            else:\n",
    "                  raise ValueError(\"Arrays dont contain the same strings\")\n",
    "                  break\n",
    "      return True\n",
    "            \n",
    "#überprüft ob spalte identische Gates  haben\n",
    "def get_gates(df1, df2, col = \"SectionID\"):\n",
    "      df1 = df1[col].unique()\n",
    "      df2 = df2[col].unique()\n",
    "      if (array_similar(df1, df2)):\n",
    "            return df1\n",
    "      else:\n",
    "            raise ValueError(\"Tabllen haben unterschiedliche Gates\")\n",
    "\n",
    "def get_value_counts(df, sections, section_index , value = \"Class\", section_name = \"SectionID\"):\n",
    "      \"\"\"holt value_counts aus df mit array sections nach index raus\"\"\"\n",
    "      return df.loc[df[section_name] == sections[section_index], [value]].value_counts()"
   ]
  },
  {
   "cell_type": "code",
   "execution_count": 30,
   "metadata": {},
   "outputs": [],
   "source": [
    "#gate import, bei fehler falsche daten\n",
    "gates = get_gates(df_eval, df_gt)"
   ]
  },
  {
   "cell_type": "code",
   "execution_count": 33,
   "metadata": {},
   "outputs": [],
   "source": [
    "#nicht mehrfach ausführen!\n",
    "df_gt[\"Class\"] = df_gt[\"Class\"].map(eq_tb)"
   ]
  },
  {
   "cell_type": "code",
   "execution_count": 34,
   "metadata": {},
   "outputs": [],
   "source": [
    "#Sortieren nach Zeit\n",
    "df_eval = sort_time(df_eval)\n",
    "df_gt = sort_time(df_gt)"
   ]
  },
  {
   "cell_type": "code",
   "execution_count": 40,
   "metadata": {},
   "outputs": [],
   "source": [
    "t_min = pd.to_datetime(\"2022-10-17 13:15:00\")\n",
    "t_max = pd.to_datetime(\"2022-10-17 13:20:00\")#liegt nicht mehr im Berreich\n",
    "\n",
    "df_11 = get_df_range(df_eval, t_min, t_max)\n",
    "df_12 = get_df_range(df_gt, t_min, t_max)"
   ]
  },
  {
   "cell_type": "code",
   "execution_count": 57,
   "metadata": {},
   "outputs": [
    {
     "name": "stdout",
     "output_type": "stream",
     "text": [
      "(0, 'Haltelinie')\n",
      "Class     \n",
      "car           188\n",
      "person         58\n",
      "bicycle         9\n",
      "bus             9\n",
      "motorcycle      5\n",
      "truck           5\n",
      "dtype: int64\n",
      "Class     \n",
      "car           190\n",
      "person         47\n",
      "bus            13\n",
      "truck          13\n",
      "bicycle         9\n",
      "motorcycle      5\n",
      "unclear         1\n",
      "dtype: int64\n",
      "(1, 'Querschnitt_Straße')\n",
      "Class     \n",
      "car           190\n",
      "person        105\n",
      "bicycle        10\n",
      "bus             9\n",
      "truck           5\n",
      "motorcycle      4\n",
      "dtype: int64\n",
      "Class     \n",
      "car           184\n",
      "person        133\n",
      "bus            11\n",
      "truck          10\n",
      "unclear         5\n",
      "bicycle         4\n",
      "motorcycle      4\n",
      "dtype: int64\n",
      "(2, 'FG2')\n",
      "Class     \n",
      "person        105\n",
      "bicycle         2\n",
      "motorcycle      2\n",
      "dtype: int64\n",
      "Class     \n",
      "person        110\n",
      "motorcycle      4\n",
      "unclear         4\n",
      "bicycle         2\n",
      "dtype: int64\n",
      "(3, 'FG1')\n",
      "Class     \n",
      "person        214\n",
      "bicycle         8\n",
      "motorcycle      1\n",
      "dtype: int64\n",
      "Class  \n",
      "person     209\n",
      "bicycle      5\n",
      "unclear      3\n",
      "dtype: int64\n"
     ]
    }
   ],
   "source": [
    "t_start = pd.to_datetime(\"2022-10-17 13:15:00\")\n",
    "t_end = pd.to_datetime(\"2022-10-17 13:30:00\")\n",
    "\n",
    "#print(t_end)\n",
    "\n",
    "for gate_index in enumerate(gates):\n",
    "    index = gate_index[0]\n",
    "    df1 = get_df_range(df_gt,t_start,t_end)\n",
    "    df2 = get_df_range(df_eval, t_start, t_end)\n",
    "    df1 = get_value_counts(df1, gates, index)\n",
    "    df2 = get_value_counts(df2, gates, index)\n",
    "    print(gate_index)\n",
    "    print(df1)\n",
    "    print(df2)\n",
    "\n",
    "#df_export = pd.DataFrame({df1, df2})\n",
    "\n",
    "#df_gt[(df_gt[\"DateTime\"] >= t_start) & (df_gt[\"DateTime\"] < t_end)]"
   ]
  },
  {
   "cell_type": "code",
   "execution_count": null,
   "metadata": {},
   "outputs": [],
   "source": []
  },
  {
   "cell_type": "code",
   "execution_count": 13,
   "metadata": {},
   "outputs": [
    {
     "name": "stdout",
     "output_type": "stream",
     "text": [
      "2022-10-17 13:20:00\n",
      "2022-10-17 13:25:00\n",
      "2022-10-17 13:30:00\n"
     ]
    }
   ],
   "source": [
    "#Intervall einstellungen\n",
    "t_min = df_gt[\"DateTime\"].min()\n",
    "t_max = df_gt[\"DateTime\"].max() + pd.Timedelta(seconds=1)\n",
    "t_int = pd.Timedelta(minutes=5, seconds=0) #evaluierungsinterval !\n",
    "\n",
    "t_end = t_min\n",
    "while t_end <=(t_max - t_int):\n",
    "    t_start = t_end\n",
    "    t_end = t_start + t_int\n",
    "    print(t_end)\n",
    "    "
   ]
  },
  {
   "cell_type": "code",
   "execution_count": 38,
   "metadata": {},
   "outputs": [
    {
     "data": {
      "text/plain": [
       "'Haltelinie'"
      ]
     },
     "execution_count": 38,
     "metadata": {},
     "output_type": "execute_result"
    }
   ],
   "source": [
    "gates[0]"
   ]
  }
 ],
 "metadata": {
  "kernelspec": {
   "display_name": "Python 3",
   "language": "python",
   "name": "python3"
  },
  "language_info": {
   "codemirror_mode": {
    "name": "ipython",
    "version": 3
   },
   "file_extension": ".py",
   "mimetype": "text/x-python",
   "name": "python",
   "nbconvert_exporter": "python",
   "pygments_lexer": "ipython3",
   "version": "3.9.13"
  },
  "orig_nbformat": 4
 },
 "nbformat": 4,
 "nbformat_minor": 2
}
