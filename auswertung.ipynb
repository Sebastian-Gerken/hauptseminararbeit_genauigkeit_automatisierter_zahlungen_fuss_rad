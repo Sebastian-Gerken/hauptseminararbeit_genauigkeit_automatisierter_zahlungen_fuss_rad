{
 "cells": [
  {
   "cell_type": "code",
   "execution_count": 218,
   "metadata": {},
   "outputs": [],
   "source": [
    "import numpy as np\n",
    "import pandas as pd"
   ]
  },
  {
   "attachments": {},
   "cell_type": "markdown",
   "metadata": {},
   "source": [
    "Einlesen der Dateien"
   ]
  },
  {
   "cell_type": "code",
   "execution_count": 369,
   "metadata": {},
   "outputs": [],
   "source": [
    "df_eval = pd.read_csv(\"./otv_data/Saarbruecken_OTCamera04_FR20_2022-10-17_13-15-00_events.csv\")\n",
    "df_gt = pd.read_csv(\"./gt_data/Saarbruecken_OTCamera04_FR20_2022-10-17_13-15-00.csv\")"
   ]
  },
  {
   "attachments": {},
   "cell_type": "markdown",
   "metadata": {},
   "source": [
    "Funktionen:"
   ]
  },
  {
   "cell_type": "code",
   "execution_count": 404,
   "metadata": {},
   "outputs": [],
   "source": [
    "#sortiert spalten nach Zeit\n",
    "def sort_time(df, col = \"DateTime\"):\n",
    "    df[col] = pd.to_datetime(df[col])\n",
    "    filtered = df.sort_values(by=col)\n",
    "    return filtered\n",
    "\n",
    "#filtert df nach min und max zeitwert\n",
    "def get_df_range(df, t_min, t_max, col = \"DateTime\" ):\n",
    "        filtered = df[(df[col] >= t_min) & (df[col] < t_max)]\n",
    "        return filtered\n",
    "\n",
    "#überprüft ob 2 array die gleichen strings enthält\n",
    "def array_similar(array1, array2):\n",
    "      if not len(array1) == len(array2):\n",
    "            raise ValueError(\"Arrays dont have the same dimesion!\")\n",
    "      for word in array1:\n",
    "            if word in array2:\n",
    "                  next\n",
    "            else:\n",
    "                  raise ValueError(\"Arrays dont contain the same strings\")\n",
    "                  break\n",
    "      return True\n",
    "            \n",
    "#überprüft ob spalte identische Gates  haben\n",
    "def get_gates(df1, df2, col = \"SectionID\"):\n",
    "      df1 = df1[col].unique()\n",
    "      df2 = df2[col].unique()\n",
    "      if (array_similar(df1, df2)):\n",
    "            return df1\n",
    "      else:\n",
    "            raise ValueError(\"Tabllen haben unterschiedliche Gates\")\n",
    "\n",
    "def get_value_counts(df, sections, section_index , value = \"Class\", section_name = \"SectionID\"):\n",
    "      \"\"\"holt value_counts aus df mit array sections nach index raus\"\"\"\n",
    "      return df.loc[df[section_name] == sections[section_index], [value]].value_counts()"
   ]
  },
  {
   "cell_type": "code",
   "execution_count": 434,
   "metadata": {},
   "outputs": [
    {
     "data": {
      "text/plain": [
       "Class     \n",
       "car           56\n",
       "person        32\n",
       "bicycle        2\n",
       "bus            2\n",
       "motorcycle     1\n",
       "truck          1\n",
       "dtype: int64"
      ]
     },
     "execution_count": 434,
     "metadata": {},
     "output_type": "execute_result"
    }
   ],
   "source": [
    "get_value_counts(df_12, gates, 1)"
   ]
  },
  {
   "cell_type": "code",
   "execution_count": 377,
   "metadata": {},
   "outputs": [],
   "source": [
    "#gate import\n",
    "gates = get_gates(df_eval, df_gt)"
   ]
  },
  {
   "cell_type": "code",
   "execution_count": 378,
   "metadata": {},
   "outputs": [],
   "source": [
    "#equivalenz Tabelle\n",
    "eq_tb = {\n",
    "    \"Person\": \"person\",\n",
    "    \"Pkw ohne Anhänger\": \"car\",\n",
    "    \"Pkw mit Anhänger\": \"car\",\n",
    "    \"Motorisierte Zweiräder\": \"motorcycle\",\n",
    "    \"Lieferwagen ohne Anhänger\": \"car\",\n",
    "    \"Lieferwagen mit Anhänger\": \"car\",\n",
    "    \"Lkw ohne Anhänger\": \"truck\",\n",
    "    \"Lkw mit Anhänger\": \"truck\",\n",
    "    \"Bus\": \"bus\",\n",
    "    \"Fahrrad ohne Anhänger\": \"bicycle\",\n",
    "    \"Fahrrad mit Anhänger\": \"bicycle\",\n",
    "    \"Lastenrad\": \"bicycle\"\n",
    "}"
   ]
  },
  {
   "cell_type": "code",
   "execution_count": 379,
   "metadata": {},
   "outputs": [],
   "source": [
    "#nicht mehrfach ausführen!\n",
    "df_gt[\"Class\"] = df_gt[\"Class\"].map(eq_tb)"
   ]
  },
  {
   "cell_type": "code",
   "execution_count": 380,
   "metadata": {},
   "outputs": [],
   "source": [
    "#Sportieren nach Zeit\n",
    "df_eval = sort_time(df_eval)\n",
    "df_gt = sort_time(df_gt)"
   ]
  },
  {
   "cell_type": "code",
   "execution_count": 381,
   "metadata": {},
   "outputs": [],
   "source": [
    "t_min = pd.to_datetime(\"2022-10-17 13:20:00\")\n",
    "t_max = pd.to_datetime(\"2022-10-17 13:25:00\")\n",
    "\n",
    "df_11 = get_dfrange(df_eval, t_min, t_max)\n",
    "df_12 = get_dfrange(df_gt, t_min, t_max)"
   ]
  },
  {
   "cell_type": "code",
   "execution_count": null,
   "metadata": {},
   "outputs": [],
   "source": []
  },
  {
   "cell_type": "code",
   "execution_count": 401,
   "metadata": {},
   "outputs": [
    {
     "name": "stdout",
     "output_type": "stream",
     "text": [
      "2022-10-17 13:20:00\n",
      "2022-10-17 13:25:00\n",
      "2022-10-17 13:30:00\n"
     ]
    }
   ],
   "source": [
    "t_min = df_gt[\"DateTime\"].min()\n",
    "t_max = df_gt[\"DateTime\"].max() + pd.Timedelta(seconds=1)\n",
    "t_int = pd.Timedelta(minutes=5, seconds=0) #evaluierungsinterval !\n",
    "\n",
    "t_end = t_min\n",
    "while t_end <=(t_max - t_int):\n",
    "    t_start = t_end\n",
    "    t_end = t_start + t_int\n",
    "    print(t_end)\n",
    "    "
   ]
  },
  {
   "cell_type": "code",
   "execution_count": 432,
   "metadata": {},
   "outputs": [
    {
     "data": {
      "text/plain": [
       "Class \n",
       "car       1\n",
       "person    1\n",
       "dtype: int64"
      ]
     },
     "execution_count": 432,
     "metadata": {},
     "output_type": "execute_result"
    }
   ],
   "source": [
    "t_start = pd.to_datetime(\"2022-10-17 13:26:35\")\n",
    "t_end = pd.to_datetime(\"2022-10-17 13:26:36\")\n",
    "#print(t_end)\n",
    "df1 = get_df_range(df_gt,t_start,t_end)\n",
    "get_value_counts(df1, gates, 3)\n",
    "#df_gt[(df_gt[\"DateTime\"] >= t_start) & (df_gt[\"DateTime\"] < t_end)]"
   ]
  },
  {
   "cell_type": "code",
   "execution_count": 426,
   "metadata": {},
   "outputs": [
    {
     "data": {
      "text/plain": [
       "'FG1'"
      ]
     },
     "execution_count": 426,
     "metadata": {},
     "output_type": "execute_result"
    }
   ],
   "source": [
    "gates[3]"
   ]
  }
 ],
 "metadata": {
  "kernelspec": {
   "display_name": "Python 3",
   "language": "python",
   "name": "python3"
  },
  "language_info": {
   "codemirror_mode": {
    "name": "ipython",
    "version": 3
   },
   "file_extension": ".py",
   "mimetype": "text/x-python",
   "name": "python",
   "nbconvert_exporter": "python",
   "pygments_lexer": "ipython3",
   "version": "3.9.13"
  },
  "orig_nbformat": 4
 },
 "nbformat": 4,
 "nbformat_minor": 2
}
