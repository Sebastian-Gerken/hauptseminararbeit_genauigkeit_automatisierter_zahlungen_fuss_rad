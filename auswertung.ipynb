{
 "cells": [
  {
   "cell_type": "code",
   "execution_count": 32,
   "metadata": {},
   "outputs": [],
   "source": [
    "%matplotlib inline\n",
    "%config InlineBackkend.figure_formats = [\"png\"]"
   ]
  },
  {
   "cell_type": "code",
   "execution_count": 63,
   "metadata": {},
   "outputs": [],
   "source": [
    "import numpy as np\n",
    "import pandas as pd\n",
    "import seaborn as sns\n",
    "import matplotlib.pyplot as plt\n",
    "from pathlib import Path"
   ]
  },
  {
   "attachments": {},
   "cell_type": "markdown",
   "metadata": {},
   "source": [
    "Einlesen der Dateien"
   ]
  },
  {
   "cell_type": "code",
   "execution_count": 2,
   "metadata": {},
   "outputs": [],
   "source": [
    "df_eval = pd.read_csv(\"data\\otv_data\\Saarbruecken_OTCamera04_FR20_2022-10-17_13-15-00_events.csv\") \n",
    "df_gt = pd.read_csv(\"data\\gt_data\\Saarbruecken_OTCamera04_FR20_2022-10-17_13-15-00.csv\")"
   ]
  },
  {
   "attachments": {},
   "cell_type": "markdown",
   "metadata": {},
   "source": [
    "Funktionen:"
   ]
  },
  {
   "cell_type": "code",
   "execution_count": 3,
   "metadata": {},
   "outputs": [],
   "source": [
    "#equivalenz Tabelle\n",
    "eq_tb = {\n",
    "    \"Person\": \"person\",\n",
    "    \"Pkw ohne Anhänger\": \"car\",\n",
    "    \"Pkw mit Anhänger\": \"car\",\n",
    "    \"Motorisierte Zweiräder\": \"motorcycle\",\n",
    "    \"Lieferwagen ohne Anhänger\": \"car\",\n",
    "    \"Lieferwagen mit Anhänger\": \"car\",\n",
    "    \"Lkw ohne Anhänger\": \"truck\",\n",
    "    \"Lkw mit Anhänger\": \"truck\",\n",
    "    \"Bus\": \"bus\",\n",
    "    \"Fahrrad ohne Anhänger\": \"bicycle\",\n",
    "    \"Fahrrad mit Anhänger\": \"bicycle\",\n",
    "    \"Lastenrad\": \"bicycle\"\n",
    "}"
   ]
  },
  {
   "cell_type": "code",
   "execution_count": 19,
   "metadata": {},
   "outputs": [],
   "source": [
    "def sort_time(df, col = \"DateTime\"):\n",
    "      \"\"\"Sortiert zeile nach der Zeit\"\"\"\n",
    "      df[col] = pd.to_datetime(df[col])\n",
    "      filtered = df.sort_values(by=col)\n",
    "      return filtered\n",
    "\n",
    "def get_df_range(df, t_min, t_max, col = \"DateTime\" ):\n",
    "      \"\"\"Filtert df nach einem tmin und tmax Wert \"\"\"\n",
    "      filtered = df[(df[col] >= t_min) & (df[col] < t_max)]\n",
    "      return filtered\n",
    "\n",
    "def array_similar(array1, array2):\n",
    "      \"\"\"überprüft ob 2 array die gleichen strings enthält\"\"\"\n",
    "      if not len(array1) == len(array2):\n",
    "            raise ValueError(\"Arrays dont have the same dimesion!\")\n",
    "      for word in array1:\n",
    "            if word in array2:\n",
    "                  next\n",
    "            else:\n",
    "                  raise ValueError(\"Arrays dont contain the same strings\")\n",
    "                  break\n",
    "      return True\n",
    "            \n",
    "def get_gates(df1, df2, col = \"SectionID\"):\n",
    "      \"\"\"überprüft ob spalte identische Gates  haben\"\"\"\n",
    "      df1 = df1[col].unique()\n",
    "      df2 = df2[col].unique()\n",
    "      if (array_similar(df1, df2)):\n",
    "            return df1\n",
    "      else:\n",
    "            raise ValueError(\"Tabllen haben unterschiedliche Gates\")\n",
    "\n",
    "def get_value_counts(df, sections, section_index , value = \"Class\", section_name = \"SectionID\"):\n",
    "      \"\"\"holt value_counts aus df mit array sections nach index raus\"\"\"\n",
    "      return df.loc[df[section_name] == sections[section_index], [value]].value_counts()"
   ]
  },
  {
   "cell_type": "code",
   "execution_count": 5,
   "metadata": {},
   "outputs": [],
   "source": [
    "#gate import, bei fehler falsche daten\n",
    "gates = get_gates(df_eval, df_gt)"
   ]
  },
  {
   "cell_type": "code",
   "execution_count": 6,
   "metadata": {},
   "outputs": [],
   "source": [
    "#nicht mehrfach ausführen!\n",
    "df_gt[\"Class\"] = df_gt[\"Class\"].map(eq_tb)"
   ]
  },
  {
   "cell_type": "code",
   "execution_count": 7,
   "metadata": {},
   "outputs": [],
   "source": [
    "#Sortieren nach Zeit\n",
    "df_eval = sort_time(df_eval)\n",
    "df_gt = sort_time(df_gt)"
   ]
  },
  {
   "cell_type": "code",
   "execution_count": 11,
   "metadata": {},
   "outputs": [],
   "source": [
    "t_min = pd.to_datetime(\"2022-10-17 13:15:00\")\n",
    "t_max = pd.to_datetime(\"2022-10-17 13:20:00\")#liegt nicht mehr im Berreich\n",
    "\n",
    "df_11 = get_df_range(df_eval, t_min, t_max)\n",
    "df_12 = get_df_range(df_gt, t_min, t_max)"
   ]
  },
  {
   "cell_type": "code",
   "execution_count": 149,
   "metadata": {},
   "outputs": [
    {
     "data": {
      "text/plain": [
       "'13_15_00'"
      ]
     },
     "execution_count": 149,
     "metadata": {},
     "output_type": "execute_result"
    }
   ],
   "source": [
    "t_start = pd.to_datetime(\"2022-10-17 13:15:00\")\n",
    "t_start.strftime(\"%H_%M_%S\")"
   ]
  },
  {
   "attachments": {},
   "cell_type": "markdown",
   "metadata": {},
   "source": [
    "Für alle Gates schleife:"
   ]
  },
  {
   "cell_type": "code",
   "execution_count": 154,
   "metadata": {},
   "outputs": [],
   "source": [
    "t_start = pd.to_datetime(\"2022-10-17 13:15:00\")\n",
    "t_end = pd.to_datetime(\"2022-10-17 13:30:00\")\n",
    "\n",
    "def loop_gates(t_start, t_end, gates):\n",
    "    \"\"\"exportiert für gegebenen Zeitraum und alle gates als csv\"\"\"\n",
    "    for gate_index in enumerate(gates):\n",
    "        index = gate_index[0]\n",
    "        df1 = get_df_range(df_gt,t_start,t_end) #Spalten nach Zeitgrenzen\n",
    "        df2 = get_df_range(df_eval, t_start, t_end)\n",
    "        df1 = get_value_counts(df1, gates, index) #Spaltenwerte für Fz typen\n",
    "        df2 = get_value_counts(df2, gates, index)\n",
    "        if index == 0:\n",
    "            df_merged = pd.concat([df1, df2], axis=1)\n",
    "            df_merged = df_merged.rename( columns={0: \"gt_\" + gate_index[1], 1:  \"eval_\" + gate_index[1] } )\n",
    "        else:\n",
    "            df_merged = pd.concat([df_merged, df1, df2], axis=1)\n",
    "            df_merged = df_merged.rename( columns={0: \"gt_\" + gate_index[1], 1: \"eval_\" + gate_index[1] } )\n",
    "    filestring = t_start.strftime(\"%H_%M_%S\") + \"-\" + str(t_end.strftime(\"%H_%M_%S\")) + \".csv\"\n",
    "    df_merged.to_csv( filestring, sep= \";\") \n",
    "\n",
    "#df_export = pd.DataFrame({df1, df2})\n",
    "\n",
    "#df_gt[(df_gt[\"DateTime\"] >= t_start) & (df_gt[\"DateTime\"] < t_end)]"
   ]
  },
  {
   "cell_type": "code",
   "execution_count": 157,
   "metadata": {},
   "outputs": [],
   "source": [
    "t_start = pd.to_datetime(\"2022-10-17 13:15:00\")\n",
    "t_end = pd.to_datetime(\"2022-10-17 13:20:00\")\n",
    "loop_gates(t_start, t_end, gates)"
   ]
  },
  {
   "cell_type": "code",
   "execution_count": 65,
   "metadata": {},
   "outputs": [
    {
     "data": {
      "image/png": "[encoded data removed]",
      "text/plain": [
       "<Figure size 640x480 with 1 Axes>"
      ]
     },
     "metadata": {},
     "output_type": "display_data"
    }
   ],
   "source": [
    "sns.set_style(\"ticks\")\n",
    "ax = sns.scatterplot(data = df_eval, x = \"X\", y = \"Y\", alpha = 0.5, s = 10, hue = \"Class\")\n",
    "ax.set_xlim(0, 799),\n",
    "ax.set_ylim(0, 599)\n",
    "plt.savefig(\"test.png\", dpi = 300)"
   ]
  },
  {
   "cell_type": "code",
   "execution_count": 13,
   "metadata": {},
   "outputs": [
    {
     "name": "stdout",
     "output_type": "stream",
     "text": [
      "2022-10-17 13:20:00\n",
      "2022-10-17 13:25:00\n",
      "2022-10-17 13:30:00\n"
     ]
    }
   ],
   "source": [
    "#Intervall einstellungen\n",
    "t_min = df_gt[\"DateTime\"].min()\n",
    "t_max = df_gt[\"DateTime\"].max() + pd.Timedelta(seconds=1)\n",
    "t_int = pd.Timedelta(minutes=5, seconds=0) #evaluierungsinterval !\n",
    "\n",
    "t_end = t_min\n",
    "while t_end <=(t_max - t_int):\n",
    "    t_start = t_end\n",
    "    t_end = t_start + t_int\n",
    "    print(t_end)\n",
    "    "
   ]
  },
  {
   "cell_type": "code",
   "execution_count": 38,
   "metadata": {},
   "outputs": [
    {
     "data": {
      "text/plain": [
       "'Haltelinie'"
      ]
     },
     "execution_count": 38,
     "metadata": {},
     "output_type": "execute_result"
    }
   ],
   "source": [
    "gates[0]"
   ]
  }
 ],
 "metadata": {
  "kernelspec": {
   "display_name": "Python 3",
   "language": "python",
   "name": "python3"
  },
  "language_info": {
   "codemirror_mode": {
    "name": "ipython",
    "version": 3
   },
   "file_extension": ".py",
   "mimetype": "text/x-python",
   "name": "python",
   "nbconvert_exporter": "python",
   "pygments_lexer": "ipython3",
   "version": "3.10.6"
  },
  "orig_nbformat": 4
 },
 "nbformat": 4,
 "nbformat_minor": 2
}
